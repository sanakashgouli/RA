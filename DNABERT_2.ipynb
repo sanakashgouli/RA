{
  "nbformat": 4,
  "nbformat_minor": 0,
  "metadata": {
    "colab": {
      "provenance": [],
      "toc_visible": true,
      "authorship_tag": "ABX9TyNVaMIF0tWwszIkgfhQwm09",
      "include_colab_link": true
    },
    "kernelspec": {
      "name": "python3",
      "display_name": "Python 3"
    },
    "language_info": {
      "name": "python"
    }
  },
  "cells": [
    {
      "cell_type": "markdown",
      "metadata": {
        "id": "view-in-github",
        "colab_type": "text"
      },
      "source": [
        "<a href=\"https://colab.research.google.com/github/sanakashgouli/Research/blob/main/DNABERT_2.ipynb\" target=\"_parent\"><img src=\"https://colab.research.google.com/assets/colab-badge.svg\" alt=\"Open In Colab\"/></a>"
      ]
    },
    {
      "cell_type": "markdown",
      "source": [
        "# DNABERT-2\n",
        "\n",
        "DNABERT-2 is a foundation model trained on large-scale multi-species genome that achieves the state-of-the-art performanan on tasks of the GUE benchmark. It replaces k-mer tokenization with BPE, positional embedding with Attention with Linear Bias (ALiBi), and incorporate other techniques to improve the efficiency and effectiveness of DNABERT."
      ],
      "metadata": {
        "id": "AkywdFYIpSrJ"
      }
    },
    {
      "cell_type": "markdown",
      "source": [
        "# Data and Model\n",
        "\n",
        "The pre-trained models is available at Huggingface as zhihan1996/DNABERT-2-117M. [Link to HuggingFace ModelHub](https://huggingface.co/zhihan1996/DNABERT-2-117M). Link For Direct Downloads from the same github page in the resources.\n"
      ],
      "metadata": {
        "id": "qxQYZAn7quXA"
      }
    },
    {
      "cell_type": "markdown",
      "source": [
        "# Resources\n",
        "\n",
        "https://github.com/MAGICS-LAB/DNABERT_2"
      ],
      "metadata": {
        "id": "JwN-E14rqXcj"
      }
    }
  ]
}