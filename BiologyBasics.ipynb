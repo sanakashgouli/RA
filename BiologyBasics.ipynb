{
  "nbformat": 4,
  "nbformat_minor": 0,
  "metadata": {
    "colab": {
      "provenance": [],
      "toc_visible": true,
      "authorship_tag": "ABX9TyMl6Ipyl0DhbXAHecUgCQz+",
      "include_colab_link": true
    },
    "kernelspec": {
      "name": "python3",
      "display_name": "Python 3"
    },
    "language_info": {
      "name": "python"
    }
  },
  "cells": [
    {
      "cell_type": "markdown",
      "metadata": {
        "id": "view-in-github",
        "colab_type": "text"
      },
      "source": [
        "<a href=\"https://colab.research.google.com/github/sanakashgouli/Research/blob/main/BiologyBasics.ipynb\" target=\"_parent\"><img src=\"https://colab.research.google.com/assets/colab-badge.svg\" alt=\"Open In Colab\"/></a>"
      ]
    },
    {
      "cell_type": "markdown",
      "source": [],
      "metadata": {
        "id": "p6oFcMXiWNCX"
      }
    },
    {
      "cell_type": "markdown",
      "source": [
        "# Biology Basics\n",
        "\n",
        "Cellular respiration: the process which cells break down macromollecules (e.g. glucose) to produce ATP (i.e. energy currency of the cell).\n",
        "\n",
        "This process has 3 steps:\n",
        "\n",
        "*   Glycolysis: Series of reactions in cytosol\n",
        "    * it starts the process of extracting energy from glucose molecule\n",
        "    * it requires glucose + 2 ATP = 4 ATP, 2 NADH, 2 Pyruvote\n",
        "    * the net ATP production is 2 ATP\n",
        "\n",
        "\n",
        "\n",
        "\n"
      ],
      "metadata": {
        "id": "mq4nm-urWOaL"
      }
    },
    {
      "cell_type": "markdown",
      "source": [
        "# Resources\n",
        "\n",
        "https://youtu.be/3Hxwzf7Alcw?si=tSessDKJBqQMJjE3"
      ],
      "metadata": {
        "id": "NRttJ4VJ_uie"
      }
    }
  ]
}