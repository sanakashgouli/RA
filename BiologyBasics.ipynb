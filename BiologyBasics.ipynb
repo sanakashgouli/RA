{
  "nbformat": 4,
  "nbformat_minor": 0,
  "metadata": {
    "colab": {
      "provenance": [],
      "toc_visible": true,
      "authorship_tag": "ABX9TyOtuzGb5b96npPfxc/TdZ/7",
      "include_colab_link": true
    },
    "kernelspec": {
      "name": "python3",
      "display_name": "Python 3"
    },
    "language_info": {
      "name": "python"
    }
  },
  "cells": [
    {
      "cell_type": "markdown",
      "metadata": {
        "id": "view-in-github",
        "colab_type": "text"
      },
      "source": [
        "<a href=\"https://colab.research.google.com/github/sanakashgouli/Research/blob/main/BiologyBasics.ipynb\" target=\"_parent\"><img src=\"https://colab.research.google.com/assets/colab-badge.svg\" alt=\"Open In Colab\"/></a>"
      ]
    },
    {
      "cell_type": "markdown",
      "source": [],
      "metadata": {
        "id": "p6oFcMXiWNCX"
      }
    },
    {
      "cell_type": "markdown",
      "source": [
        "# Biology Basics\n",
        "\n",
        "Cellular respirationz"
      ],
      "metadata": {
        "id": "mq4nm-urWOaL"
      }
    }
  ]
}