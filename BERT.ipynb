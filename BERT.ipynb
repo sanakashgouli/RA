{
  "nbformat": 4,
  "nbformat_minor": 0,
  "metadata": {
    "colab": {
      "provenance": [],
      "toc_visible": true,
      "authorship_tag": "ABX9TyOgb/MQIh7Ju81CKFObEEfR",
      "include_colab_link": true
    },
    "kernelspec": {
      "name": "python3",
      "display_name": "Python 3"
    },
    "language_info": {
      "name": "python"
    }
  },
  "cells": [
    {
      "cell_type": "markdown",
      "metadata": {
        "id": "view-in-github",
        "colab_type": "text"
      },
      "source": [
        "<a href=\"https://colab.research.google.com/github/sanakashgouli/RA/blob/main/BERT.ipynb\" target=\"_parent\"><img src=\"https://colab.research.google.com/assets/colab-badge.svg\" alt=\"Open In Colab\"/></a>"
      ]
    },
    {
      "cell_type": "markdown",
      "source": [
        "Bert stands for Bidirectional Encoder Representations from Transformers.\n",
        "\n",
        "It is designed to pre-train deep bidirectional representations from unlabeled text by jointly conditioning on both left and right context in all layers.\n",
        "\n",
        "\n",
        "\n",
        "\n",
        "\n",
        "Resources:\n",
        "\n",
        "Video: https://www.youtube.com/watch?v=xI0HHN5XKDo&ab_channel=CodeEmporium\n",
        "\n",
        "https://huggingface.co/docs/transformers/model_doc/bert\n",
        "\n",
        "https://medium.com/@samia.khalid/bert-explained-a-complete-guide-with-theory-and-tutorial-3ac9ebc8fa7c\n",
        "\n",
        "Paper: https://arxiv.org/abs/1810.04805\n",
        "\n"
      ],
      "metadata": {
        "id": "E12hh9TGEx-Q"
      }
    }
  ]
}